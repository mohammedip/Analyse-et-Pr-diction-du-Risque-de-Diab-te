{
 "cells": [
  {
   "cell_type": "markdown",
   "id": "0d4a50b5",
   "metadata": {},
   "source": [
    "I - Charger et explorer le jeu de données afin de comprendre sa structure et ses caractéristiques principales.\n",
    "    \n",
    "    1 - Importer le dataset avec pandas"
   ]
  },
  {
   "cell_type": "code",
   "execution_count": null,
   "id": "1d95aa20",
   "metadata": {},
   "outputs": [],
   "source": [
    "import pandas as pd\n",
    "\n",
    "df = pd.read_csv('data/dataset-diabete-68e2810ab0d7e949117525.csv')"
   ]
  }
 ],
 "metadata": {
  "language_info": {
   "name": "python"
  }
 },
 "nbformat": 4,
 "nbformat_minor": 5
}
